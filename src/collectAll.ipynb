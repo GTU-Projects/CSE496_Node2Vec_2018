{
 "cells": [
  {
   "cell_type": "code",
   "execution_count": 91,
   "metadata": {},
   "outputs": [
    {
     "name": "stdout",
     "output_type": "stream",
     "text": [
      "The autoreload extension is already loaded. To reload it, use:\n",
      "  %reload_ext autoreload\n"
     ]
    }
   ],
   "source": [
    "%load_ext autoreload\n",
    "%autoreload 2"
   ]
  },
  {
   "cell_type": "code",
   "execution_count": 2,
   "metadata": {},
   "outputs": [],
   "source": [
    "import db_helper\n",
    "import datetime\n",
    "import networkx as nx\n",
    "from datetime import datetime\n",
    "from gensim.models import Word2Vec\n",
    "import numpy as np\n",
    "import matplotlib.pyplot as plt\n",
    "import importlib\n",
    "import graph_constructor as GC\n",
    "import n2v as N2V\n",
    "import utils\n",
    "from sklearn.metrics.pairwise import cosine_similarity\n",
    "import pandas as pd"
   ]
  },
  {
   "cell_type": "code",
   "execution_count": 145,
   "metadata": {},
   "outputs": [
    {
     "data": {
      "text/plain": [
       "33958313"
      ]
     },
     "execution_count": 145,
     "metadata": {},
     "output_type": "execute_result"
    }
   ],
   "source": [
    "import gc\n",
    "gc.collect()"
   ]
  },
  {
   "cell_type": "code",
   "execution_count": 4,
   "metadata": {},
   "outputs": [],
   "source": [
    "PROJECT_PATH='/home/hmenn/Workspace/CSE496_Node2Vec_2018'\n",
    "MONTH_TAG_EN=\"month\"\n",
    "YEAR_TAG_EN=\"year\"\n",
    "DAY_TAG_EN=\"day\"\n",
    "\n",
    "MONTH_NAMES_EN = {1:\"JAN\",2:\"FEB\",3:\"MAR\",4:\"APR\",\n",
    "          5:\"MAY\",6:\"JUN\",7:\"JUL\",8:\"AUG\",\n",
    "         9:\"SEP\",10:\"OCT\",11:\"NOV\",12:\"DEC\"}\n",
    "\n",
    "MONTH_TAG_TR=\"AY\"\n",
    "YEAR_TAG_TR=\"YIL\"\n",
    "DAY_TAG_TR=\"GUN\"\n",
    "\n",
    "MONTH_NAMES_TR = {1:\"OCA\",2:\"SUB\",3:\"MAR\",4:\"NIS\",\n",
    "          5:\"MAY\",6:\"HAZ\",7:\"TEM\",8:\"AGU\",\n",
    "         9:\"EYL\",10:\"EKI\",11:\"KAS\",12:\"ARA\"}"
   ]
  },
  {
   "cell_type": "code",
   "execution_count": 28,
   "metadata": {},
   "outputs": [],
   "source": [
    "db = db_helper.DBHelper()\n",
    "db.connectMysql(user=\"root\",passwd=\"Hasan5695*\",db=\"SocialMediaDB\")\n",
    "tweets = db.getTweetsFromMysql(\"TweetsShort\")\n",
    "db_helper.saveTweetsAsJson(PROJECT_PATH+'/dataset/SocialMediaDataset/tweets.json', tweets)"
   ]
  },
  {
   "cell_type": "code",
   "execution_count": 5,
   "metadata": {},
   "outputs": [],
   "source": [
    "tweets = db_helper.getTweetsFromJson(PROJECT_PATH+'/dataset/SocialMediaDataset/tweets.json')"
   ]
  },
  {
   "cell_type": "code",
   "execution_count": 21,
   "metadata": {},
   "outputs": [],
   "source": [
    "allFriendships = db_helper.getAllFriendsFromJson(PROJECT_PATH+'/dataset/SocialMediaDataset/friends.json')"
   ]
  },
  {
   "cell_type": "code",
   "execution_count": 136,
   "metadata": {},
   "outputs": [
    {
     "name": "stdout",
     "output_type": "stream",
     "text": [
      "TotalTweet#: 93753\n",
      "[############ Tweet: ############ \n",
      "SendByScreenName:cakrr_ \n",
      "UserID:u1623755515 \n",
      "TweetID:t763141405766250496 \n",
      "InReplyToStatusID:t763141168771244032 \n",
      "InReplyToUserID:u757176735158923264 \n",
      "Date:2016-08-10 01:34:24 \n",
      "Text:@Wesleyoloji10 OGLAK HAZİNE ARIYOR AQ:das:asd \n",
      ", ############ Tweet: ############ \n",
      "SendByScreenName:selcukarici \n",
      "UserID:u154236788 \n",
      "TweetID:t763577912696135680 \n",
      "InReplyToStatusID:t-1 \n",
      "InReplyToUserID:u-1 \n",
      "Date:2016-08-11 06:28:55 \n",
      "Text:Sn.CB'nımızın çağrısıyla 3 banka konut kredisi faiz oranlarını ℅1'in altına çekti..Bu olumlu bir adım.\n",
      "\n",
      "Ancak şişen piyasa nasıl düşecek? \n",
      "]\n"
     ]
    }
   ],
   "source": [
    "print('TotalTweet#:',len(tweets))\n",
    "print(tweets[:2])"
   ]
  },
  {
   "cell_type": "code",
   "execution_count": 131,
   "metadata": {},
   "outputs": [
    {
     "name": "stdout",
     "output_type": "stream",
     "text": [
      "[{'UserID': 'u100341775', 'FriendID': 'u1014141614'}, {'UserID': 'u100341775', 'FriendID': 'u120840897'}]\n",
      "[('u100341775', 'u1014141614', {'weight': 1}), ('u100341775', 'u120840897', {'weight': 1}), ('u100341775', 'u1494034783', {'weight': 1}), ('u100341775', 'u154236788', {'weight': 1}), ('u100341775', 'u155534196', {'weight': 1}), ('u100341775', 'u190171522', {'weight': 1}), ('u100341775', 'u219248343', {'weight': 1}), ('u100341775', 'u2547943374', {'weight': 1}), ('u100341775', 'u25506738', {'weight': 1}), ('u100341775', 'u272613386', {'weight': 1}), ('u100341775', 'u285685164', {'weight': 1}), ('u100341775', 'u3228821009', {'weight': 1}), ('u100341775', 'u41931916', {'weight': 1}), ('u100341775', 'u425819395', {'weight': 1}), ('u100341775', 'u461858710', {'weight': 1}), ('u100341775', 'u497735542', {'weight': 1}), ('u100341775', 'u61189897', {'weight': 1}), ('u100341775', 'u63110096', {'weight': 1}), ('u100341775', 'u737302248338952193', {'weight': 1})]\n"
     ]
    }
   ],
   "source": [
    "print(allFriendships[:2])\n",
    "userFriends = [('u100341775',x['FriendID'], {'weight':1}) for x in allFriendships[:] if x['UserID']=='u100341775']\n",
    "print(userFriends)"
   ]
  },
  {
   "cell_type": "code",
   "execution_count": 142,
   "metadata": {},
   "outputs": [],
   "source": [
    "def create_all_graph(tweets):\n",
    "    G1 = nx.DiGraph()\n",
    "    G1.add_node(YEAR_TAG_TR)\n",
    "    G1.add_node(MONTH_TAG_TR)\n",
    "    G1.add_node(DAY_TAG_TR)\n",
    "\n",
    "    prevYear = None\n",
    "    prevMonth = None\n",
    "    prevDay = None\n",
    "\n",
    "    prevYear = tweets[0].date.year\n",
    "    prevMonth = tweets[0].date.month\n",
    "    prevDay = tweets[0].date.day\n",
    "\n",
    "    for tweet in tweets:\n",
    "        G1.add_edge(YEAR_TAG_TR,str(tweet.date.year),weight=1.0)\n",
    "        \n",
    "        if(prevYear < tweet.date.year):\n",
    "            G1.add_edge(str(prevYear),str(tweet.date.year),weight=1.0)\n",
    "            prevYear = tweet.date.year\n",
    "            prevMonth = tweet.date.month\n",
    "            prevDay = tweet.date.day\n",
    "          \n",
    "        monthFormat = \"{month}.{year}\".format(month=MONTH_NAMES_TR[tweet.date.month],year=tweet.date.year)\n",
    "        G1.add_edge(str(tweet.date.year),monthFormat,weight=1.0)\n",
    "        \n",
    "        if(prevMonth < tweet.date.month):\n",
    "            prevMonthFormat = \"{month}.{year}\".format(month=MONTH_NAMES_TR[prevMonth],year=tweet.date.year)\n",
    "            G1.add_edge(prevMonthFormat,monthFormat,weight=1.0)\n",
    "            prevMonth = tweet.date.month\n",
    "            prevDay = tweet.date.day\n",
    "        \n",
    "        #G1.add_edge(MONTH_TAG,monthFormat,weight=1.0)\n",
    "        fullDateFormat = \"{day}.{month}.{year}\".format(day=tweet.date.day,month=tweet.date.month,year=tweet.date.year)\n",
    "        if prevDay < tweet.date.day:\n",
    "            prevFullDateFormat = \"{day}.{month}.{year}\".format(day=prevDay,month=tweet.date.month,year=tweet.date.year)\n",
    "            G1.add_edge(prevFullDateFormat,fullDateFormat,weight=1.0)\n",
    "            prevDay = tweet.date.day\n",
    "        \n",
    "        # tweet -> date\n",
    "        G1.add_edge(tweet.tweetID,fullDateFormat,weight=1.0)\n",
    "        G1.add_edge(monthFormat,fullDateFormat,weight=1.0)\n",
    "                \n",
    "        # if user will be added first time, add friend connections\n",
    "        if not G1.has_node(tweet.userID):\n",
    "            userFriends = [(x['UserID'],x['FriendID'], {'weight':1.0}) for x in allFriendships if x['UserID']==tweet.userID]\n",
    "            #print('User:{userID} was added. User has {friendCount} friend.'.format(userID=tweet.userID,friendCount=len(userFriends)))\n",
    "\n",
    "            # add friendship connections\n",
    "            G1.add_edges_from(userFriends)\n",
    "            \n",
    "        # user -> tweet connections were established\n",
    "        G1.add_edge(tweet.userID, tweet.tweetID,weight=1.0)\n",
    "                 \n",
    "        # if tweet replied and db has actuaal(replied tweet, add to graph)\n",
    "        # cevap verilen tweet db de ise, o tweete baglanti ekle\n",
    "        for i in tweets:\n",
    "            if i.tweetID == tweet.inReplyToStatusID:\n",
    "                G1.add_edge(tweet.tweetID, tweet.inReplyToStatusID,weight=1.0)\n",
    "\n",
    "    return G1"
   ]
  },
  {
   "cell_type": "code",
   "execution_count": 143,
   "metadata": {},
   "outputs": [
    {
     "name": "stdout",
     "output_type": "stream",
     "text": [
      "Graph construct time:  0:00:00.884409\n",
      "Number of edges:  6582\n",
      "Number of nodes:  3259\n"
     ]
    }
   ],
   "source": [
    "startTime = datetime.now()\n",
    "graph = create_all_graph(tweets[:3000])\n",
    "endTime = datetime.now()\n",
    "print(\"Graph construct time: \",endTime-startTime)\n",
    "print(\"Number of edges: \",graph.number_of_edges())\n",
    "print(\"Number of nodes: \",graph.number_of_nodes())"
   ]
  },
  {
   "cell_type": "code",
   "execution_count": 138,
   "metadata": {},
   "outputs": [],
   "source": [
    "# save and read edge list\n",
    "#nx.write_edgelist(graph, path=PROJECT_PATH+\"/outputs/grid.edgelist\", delimiter=\":\")\n",
    "#graph = nx.read_edgelist(path=\"grid.edgelist\", delimiter=\":\")"
   ]
  },
  {
   "cell_type": "code",
   "execution_count": 140,
   "metadata": {},
   "outputs": [],
   "source": [
    "#graph.edges()\n",
    "#graph['u100341775']"
   ]
  },
  {
   "cell_type": "code",
   "execution_count": 146,
   "metadata": {},
   "outputs": [
    {
     "name": "stdout",
     "output_type": "stream",
     "text": [
      "Walk iteration:\n",
      "500 / 3000\n",
      "1000 / 3000\n",
      "1500 / 3000\n",
      "2000 / 3000\n",
      "2500 / 3000\n",
      "3000 / 3000\n",
      "Node2Vec simulation walk time:  0:08:02.394668\n"
     ]
    }
   ],
   "source": [
    "startTime = datetime.now()\n",
    "graphN2V = N2V.Graph(graph, True, 1.0, 1.0)\n",
    "graphN2V.preprocess_transition_probs()\n",
    "walks = graphN2V.simulate_walks(3000, 80)\n",
    "endTime = datetime.now()\n",
    "print(\"Node2Vec simulation walk time: \",endTime-startTime)"
   ]
  },
  {
   "cell_type": "code",
   "execution_count": 147,
   "metadata": {},
   "outputs": [
    {
     "name": "stdout",
     "output_type": "stream",
     "text": [
      "Learning embeddings time:  0:03:49.195420\n"
     ]
    }
   ],
   "source": [
    "startTime = datetime.now()\n",
    "model = N2V.learn_embeddings(walks,\"graphAll\")\n",
    "endTime = datetime.now()\n",
    "print(\"Learning embeddings time: \",endTime-startTime)"
   ]
  },
  {
   "cell_type": "code",
   "execution_count": 148,
   "metadata": {},
   "outputs": [
    {
     "data": {
      "text/plain": [
       "[('u41931916', 0.6401066780090332),\n",
       " ('u757176735158923264', 0.6349278092384338),\n",
       " ('u819201027857641472', 0.6320477724075317),\n",
       " ('u760134507072786432', 0.6316286325454712),\n",
       " ('u808341696715096064', 0.6294573545455933),\n",
       " ('u82946124', 0.627635657787323),\n",
       " ('u838307023527768064', 0.6272684931755066),\n",
       " ('u875668493768810496', 0.6268239617347717),\n",
       " ('u1014141614', 0.625278115272522),\n",
       " ('u292822200', 0.6238027215003967)]"
      ]
     },
     "execution_count": 148,
     "metadata": {},
     "output_type": "execute_result"
    }
   ],
   "source": [
    "model.wv.most_similar('u1623755515')"
   ]
  },
  {
   "cell_type": "code",
   "execution_count": 149,
   "metadata": {},
   "outputs": [
    {
     "data": {
      "text/html": [
       "<div>\n",
       "<style scoped>\n",
       "    .dataframe tbody tr th:only-of-type {\n",
       "        vertical-align: middle;\n",
       "    }\n",
       "\n",
       "    .dataframe tbody tr th {\n",
       "        vertical-align: top;\n",
       "    }\n",
       "\n",
       "    .dataframe thead th {\n",
       "        text-align: right;\n",
       "    }\n",
       "</style>\n",
       "<table border=\"1\" class=\"dataframe\">\n",
       "  <thead>\n",
       "    <tr style=\"text-align: right;\">\n",
       "      <th></th>\n",
       "      <th>2016</th>\n",
       "      <th>AGU.2016</th>\n",
       "      <th>24.8.2016</th>\n",
       "      <th>20.8.2016</th>\n",
       "      <th>t766739153195266049</th>\n",
       "      <th>t766738735786491905</th>\n",
       "      <th>t766744289342808069</th>\n",
       "      <th>u1623755515</th>\n",
       "      <th>u4242878596</th>\n",
       "      <th>u2335496184</th>\n",
       "    </tr>\n",
       "  </thead>\n",
       "  <tbody>\n",
       "    <tr>\n",
       "      <th>2016</th>\n",
       "      <td>1.000000</td>\n",
       "      <td>0.897912</td>\n",
       "      <td>0.089368</td>\n",
       "      <td>0.147665</td>\n",
       "      <td>0.248144</td>\n",
       "      <td>0.218022</td>\n",
       "      <td>0.111865</td>\n",
       "      <td>0.181527</td>\n",
       "      <td>0.298479</td>\n",
       "      <td>0.123207</td>\n",
       "    </tr>\n",
       "    <tr>\n",
       "      <th>AGU.2016</th>\n",
       "      <td>0.897912</td>\n",
       "      <td>1.000000</td>\n",
       "      <td>0.180982</td>\n",
       "      <td>0.230807</td>\n",
       "      <td>0.318939</td>\n",
       "      <td>0.285151</td>\n",
       "      <td>0.140732</td>\n",
       "      <td>0.130108</td>\n",
       "      <td>0.260527</td>\n",
       "      <td>0.223532</td>\n",
       "    </tr>\n",
       "    <tr>\n",
       "      <th>24.8.2016</th>\n",
       "      <td>0.089368</td>\n",
       "      <td>0.180982</td>\n",
       "      <td>1.000000</td>\n",
       "      <td>0.329451</td>\n",
       "      <td>0.237361</td>\n",
       "      <td>0.213374</td>\n",
       "      <td>0.197683</td>\n",
       "      <td>0.058424</td>\n",
       "      <td>0.190358</td>\n",
       "      <td>0.233612</td>\n",
       "    </tr>\n",
       "    <tr>\n",
       "      <th>20.8.2016</th>\n",
       "      <td>0.147665</td>\n",
       "      <td>0.230807</td>\n",
       "      <td>0.329451</td>\n",
       "      <td>1.000000</td>\n",
       "      <td>0.256564</td>\n",
       "      <td>0.240994</td>\n",
       "      <td>0.131919</td>\n",
       "      <td>0.056933</td>\n",
       "      <td>0.196134</td>\n",
       "      <td>0.193339</td>\n",
       "    </tr>\n",
       "    <tr>\n",
       "      <th>t766739153195266049</th>\n",
       "      <td>0.248144</td>\n",
       "      <td>0.318939</td>\n",
       "      <td>0.237361</td>\n",
       "      <td>0.256564</td>\n",
       "      <td>1.000000</td>\n",
       "      <td>0.948233</td>\n",
       "      <td>0.431832</td>\n",
       "      <td>0.100725</td>\n",
       "      <td>0.236257</td>\n",
       "      <td>0.511241</td>\n",
       "    </tr>\n",
       "    <tr>\n",
       "      <th>t766738735786491905</th>\n",
       "      <td>0.218022</td>\n",
       "      <td>0.285151</td>\n",
       "      <td>0.213374</td>\n",
       "      <td>0.240994</td>\n",
       "      <td>0.948233</td>\n",
       "      <td>1.000000</td>\n",
       "      <td>0.423794</td>\n",
       "      <td>0.075859</td>\n",
       "      <td>0.217098</td>\n",
       "      <td>0.495944</td>\n",
       "    </tr>\n",
       "    <tr>\n",
       "      <th>t766744289342808069</th>\n",
       "      <td>0.111865</td>\n",
       "      <td>0.140732</td>\n",
       "      <td>0.197683</td>\n",
       "      <td>0.131919</td>\n",
       "      <td>0.431832</td>\n",
       "      <td>0.423794</td>\n",
       "      <td>1.000000</td>\n",
       "      <td>-0.076573</td>\n",
       "      <td>0.201869</td>\n",
       "      <td>0.460607</td>\n",
       "    </tr>\n",
       "    <tr>\n",
       "      <th>u1623755515</th>\n",
       "      <td>0.181527</td>\n",
       "      <td>0.130108</td>\n",
       "      <td>0.058424</td>\n",
       "      <td>0.056933</td>\n",
       "      <td>0.100725</td>\n",
       "      <td>0.075859</td>\n",
       "      <td>-0.076573</td>\n",
       "      <td>1.000000</td>\n",
       "      <td>0.617314</td>\n",
       "      <td>0.073153</td>\n",
       "    </tr>\n",
       "    <tr>\n",
       "      <th>u4242878596</th>\n",
       "      <td>0.298479</td>\n",
       "      <td>0.260527</td>\n",
       "      <td>0.190358</td>\n",
       "      <td>0.196134</td>\n",
       "      <td>0.236257</td>\n",
       "      <td>0.217098</td>\n",
       "      <td>0.201869</td>\n",
       "      <td>0.617314</td>\n",
       "      <td>1.000000</td>\n",
       "      <td>0.306715</td>\n",
       "    </tr>\n",
       "    <tr>\n",
       "      <th>u2335496184</th>\n",
       "      <td>0.123207</td>\n",
       "      <td>0.223532</td>\n",
       "      <td>0.233612</td>\n",
       "      <td>0.193339</td>\n",
       "      <td>0.511241</td>\n",
       "      <td>0.495944</td>\n",
       "      <td>0.460607</td>\n",
       "      <td>0.073153</td>\n",
       "      <td>0.306715</td>\n",
       "      <td>1.000000</td>\n",
       "    </tr>\n",
       "  </tbody>\n",
       "</table>\n",
       "</div>"
      ],
      "text/plain": [
       "                         2016  AGU.2016  24.8.2016  20.8.2016  \\\n",
       "2016                 1.000000  0.897912   0.089368   0.147665   \n",
       "AGU.2016             0.897912  1.000000   0.180982   0.230807   \n",
       "24.8.2016            0.089368  0.180982   1.000000   0.329451   \n",
       "20.8.2016            0.147665  0.230807   0.329451   1.000000   \n",
       "t766739153195266049  0.248144  0.318939   0.237361   0.256564   \n",
       "t766738735786491905  0.218022  0.285151   0.213374   0.240994   \n",
       "t766744289342808069  0.111865  0.140732   0.197683   0.131919   \n",
       "u1623755515          0.181527  0.130108   0.058424   0.056933   \n",
       "u4242878596          0.298479  0.260527   0.190358   0.196134   \n",
       "u2335496184          0.123207  0.223532   0.233612   0.193339   \n",
       "\n",
       "                     t766739153195266049  t766738735786491905  \\\n",
       "2016                            0.248144             0.218022   \n",
       "AGU.2016                        0.318939             0.285151   \n",
       "24.8.2016                       0.237361             0.213374   \n",
       "20.8.2016                       0.256564             0.240994   \n",
       "t766739153195266049             1.000000             0.948233   \n",
       "t766738735786491905             0.948233             1.000000   \n",
       "t766744289342808069             0.431832             0.423794   \n",
       "u1623755515                     0.100725             0.075859   \n",
       "u4242878596                     0.236257             0.217098   \n",
       "u2335496184                     0.511241             0.495944   \n",
       "\n",
       "                     t766744289342808069  u1623755515  u4242878596  \\\n",
       "2016                            0.111865     0.181527     0.298479   \n",
       "AGU.2016                        0.140732     0.130108     0.260527   \n",
       "24.8.2016                       0.197683     0.058424     0.190358   \n",
       "20.8.2016                       0.131919     0.056933     0.196134   \n",
       "t766739153195266049             0.431832     0.100725     0.236257   \n",
       "t766738735786491905             0.423794     0.075859     0.217098   \n",
       "t766744289342808069             1.000000    -0.076573     0.201869   \n",
       "u1623755515                    -0.076573     1.000000     0.617314   \n",
       "u4242878596                     0.201869     0.617314     1.000000   \n",
       "u2335496184                     0.460607     0.073153     0.306715   \n",
       "\n",
       "                     u2335496184  \n",
       "2016                    0.123207  \n",
       "AGU.2016                0.223532  \n",
       "24.8.2016               0.233612  \n",
       "20.8.2016               0.193339  \n",
       "t766739153195266049     0.511241  \n",
       "t766738735786491905     0.495944  \n",
       "t766744289342808069     0.460607  \n",
       "u1623755515             0.073153  \n",
       "u4242878596             0.306715  \n",
       "u2335496184             1.000000  "
      ]
     },
     "execution_count": 149,
     "metadata": {},
     "output_type": "execute_result"
    }
   ],
   "source": [
    "column_names = ['2016', 'AGU.2016', '24.8.2016', \"20.8.2016\",\"t766739153195266049\",\"t766738735786491905\", \"t766744289342808069\",'u1623755515','u4242878596','u2335496184']\n",
    "matrix1 = np.stack((model.wv[column_names]))\n",
    "cosines1 = cosine_similarity(matrix1)\n",
    "df1 = pd.DataFrame(cosines1, columns=column_names, index=column_names)\n",
    "df1"
   ]
  },
  {
   "cell_type": "code",
   "execution_count": null,
   "metadata": {},
   "outputs": [],
   "source": []
  }
 ],
 "metadata": {
  "kernelspec": {
   "display_name": "n2vEnv",
   "language": "python",
   "name": "n2venv"
  },
  "language_info": {
   "codemirror_mode": {
    "name": "ipython",
    "version": 3
   },
   "file_extension": ".py",
   "mimetype": "text/x-python",
   "name": "python",
   "nbconvert_exporter": "python",
   "pygments_lexer": "ipython3",
   "version": "3.6.5"
  }
 },
 "nbformat": 4,
 "nbformat_minor": 2
}
