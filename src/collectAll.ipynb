{
 "cells": [
  {
   "cell_type": "code",
   "execution_count": 91,
   "metadata": {},
   "outputs": [
    {
     "name": "stdout",
     "output_type": "stream",
     "text": [
      "The autoreload extension is already loaded. To reload it, use:\n",
      "  %reload_ext autoreload\n"
     ]
    }
   ],
   "source": [
    "%load_ext autoreload\n",
    "%autoreload 2"
   ]
  },
  {
   "cell_type": "code",
   "execution_count": 2,
   "metadata": {},
   "outputs": [],
   "source": [
    "import db_helper\n",
    "import datetime\n",
    "import networkx as nx\n",
    "from datetime import datetime\n",
    "from gensim.models import Word2Vec\n",
    "import numpy as np\n",
    "import matplotlib.pyplot as plt\n",
    "import importlib\n",
    "import graph_constructor as GC\n",
    "import n2v as N2V\n",
    "import utils\n",
    "from sklearn.metrics.pairwise import cosine_similarity\n",
    "import pandas as pd"
   ]
  },
  {
   "cell_type": "code",
   "execution_count": 145,
   "metadata": {},
   "outputs": [
    {
     "data": {
      "text/plain": [
       "33958313"
      ]
     },
     "execution_count": 145,
     "metadata": {},
     "output_type": "execute_result"
    }
   ],
   "source": [
    "import gc\n",
    "gc.collect()"
   ]
  },
  {
   "cell_type": "code",
   "execution_count": 4,
   "metadata": {},
   "outputs": [],
   "source": [
    "PROJECT_PATH='/home/hmenn/Workspace/CSE496_Node2Vec_2018'\n",
    "MONTH_TAG_EN=\"month\"\n",
    "YEAR_TAG_EN=\"year\"\n",
    "DAY_TAG_EN=\"day\"\n",
    "\n",
    "MONTH_NAMES_EN = {1:\"JAN\",2:\"FEB\",3:\"MAR\",4:\"APR\",\n",
    "          5:\"MAY\",6:\"JUN\",7:\"JUL\",8:\"AUG\",\n",
    "         9:\"SEP\",10:\"OCT\",11:\"NOV\",12:\"DEC\"}\n",
    "\n",
    "MONTH_TAG_TR=\"AY\"\n",
    "YEAR_TAG_TR=\"YIL\"\n",
    "DAY_TAG_TR=\"GUN\"\n",
    "\n",
    "MONTH_NAMES_TR = {1:\"OCA\",2:\"SUB\",3:\"MAR\",4:\"NIS\",\n",
    "          5:\"MAY\",6:\"HAZ\",7:\"TEM\",8:\"AGU\",\n",
    "         9:\"EYL\",10:\"EKI\",11:\"KAS\",12:\"ARA\"}"
   ]
  },
  {
   "cell_type": "markdown",
   "metadata": {},
   "source": [
    "If you don't have json data, read data from db and then convert them into json to easy load-save. Reading data from db is not useful."
   ]
  },
  {
   "cell_type": "code",
   "execution_count": 28,
   "metadata": {},
   "outputs": [],
   "source": [
    "db = db_helper.DBHelper()\n",
    "db.connectMysql(user=\"root\",passwd=\"Hasan5695*\",db=\"SocialMediaDB\")\n",
    "tweets = db.getTweetsFromMysql(\"TweetsShort\")\n",
    "db_helper.saveTweetsAsJson(PROJECT_PATH+'/dataset/SocialMediaDataset/tweets.json', tweets)"
   ]
  },
  {
   "cell_type": "code",
   "execution_count": 5,
   "metadata": {},
   "outputs": [],
   "source": [
    "tweets = db_helper.getTweetsFromJson(PROJECT_PATH+'/dataset/SocialMediaDataset/tweets.json')"
   ]
  },
  {
   "cell_type": "code",
   "execution_count": 21,
   "metadata": {},
   "outputs": [],
   "source": [
    "allFriendships = db_helper.getAllFriendsFromJson(PROJECT_PATH+'/dataset/SocialMediaDataset/friends.json')"
   ]
  },
  {
   "cell_type": "code",
   "execution_count": 136,
   "metadata": {},
   "outputs": [
    {
     "name": "stdout",
     "output_type": "stream",
     "text": [
      "TotalTweet#: 93753\n",
      "[############ Tweet: ############ \n",
      "SendByScreenName:cakrr_ \n",
      "UserID:u1623755515 \n",
      "TweetID:t763141405766250496 \n",
      "InReplyToStatusID:t763141168771244032 \n",
      "InReplyToUserID:u757176735158923264 \n",
      "Date:2016-08-10 01:34:24 \n",
      "Text:@Wesleyoloji10 OGLAK HAZİNE ARIYOR AQ:das:asd \n",
      ", ############ Tweet: ############ \n",
      "SendByScreenName:selcukarici \n",
      "UserID:u154236788 \n",
      "TweetID:t763577912696135680 \n",
      "InReplyToStatusID:t-1 \n",
      "InReplyToUserID:u-1 \n",
      "Date:2016-08-11 06:28:55 \n",
      "Text:Sn.CB'nımızın çağrısıyla 3 banka konut kredisi faiz oranlarını ℅1'in altına çekti..Bu olumlu bir adım.\n",
      "\n",
      "Ancak şişen piyasa nasıl düşecek? \n",
      "]\n"
     ]
    }
   ],
   "source": [
    "print('TotalTweet#:',len(tweets))\n",
    "print(tweets[:2])"
   ]
  },
  {
   "cell_type": "code",
   "execution_count": 131,
   "metadata": {},
   "outputs": [
    {
     "name": "stdout",
     "output_type": "stream",
     "text": [
      "[{'UserID': 'u100341775', 'FriendID': 'u1014141614'}, {'UserID': 'u100341775', 'FriendID': 'u120840897'}]\n",
      "[('u100341775', 'u1014141614', {'weight': 1}), ('u100341775', 'u120840897', {'weight': 1}), ('u100341775', 'u1494034783', {'weight': 1}), ('u100341775', 'u154236788', {'weight': 1}), ('u100341775', 'u155534196', {'weight': 1}), ('u100341775', 'u190171522', {'weight': 1}), ('u100341775', 'u219248343', {'weight': 1}), ('u100341775', 'u2547943374', {'weight': 1}), ('u100341775', 'u25506738', {'weight': 1}), ('u100341775', 'u272613386', {'weight': 1}), ('u100341775', 'u285685164', {'weight': 1}), ('u100341775', 'u3228821009', {'weight': 1}), ('u100341775', 'u41931916', {'weight': 1}), ('u100341775', 'u425819395', {'weight': 1}), ('u100341775', 'u461858710', {'weight': 1}), ('u100341775', 'u497735542', {'weight': 1}), ('u100341775', 'u61189897', {'weight': 1}), ('u100341775', 'u63110096', {'weight': 1}), ('u100341775', 'u737302248338952193', {'weight': 1})]\n"
     ]
    }
   ],
   "source": [
    "print(allFriendships[:2])\n",
    "userFriends = [('u100341775',x['FriendID'], {'weight':1}) for x in allFriendships[:] if x['UserID']=='u100341775']\n",
    "print(userFriends)"
   ]
  },
  {
   "cell_type": "code",
   "execution_count": 142,
   "metadata": {},
   "outputs": [],
   "source": [
    "def create_all_graph(tweets):\n",
    "    G1 = nx.DiGraph()\n",
    "    G1.add_node(YEAR_TAG_TR)\n",
    "    G1.add_node(MONTH_TAG_TR)\n",
    "    G1.add_node(DAY_TAG_TR)\n",
    "\n",
    "    prevYear = None\n",
    "    prevMonth = None\n",
    "    prevDay = None\n",
    "\n",
    "    prevYear = tweets[0].date.year\n",
    "    prevMonth = tweets[0].date.month\n",
    "    prevDay = tweets[0].date.day\n",
    "\n",
    "    for tweet in tweets:\n",
    "        G1.add_edge(YEAR_TAG_TR,str(tweet.date.year),weight=1.0)\n",
    "        \n",
    "        if(prevYear < tweet.date.year):\n",
    "            G1.add_edge(str(prevYear),str(tweet.date.year),weight=1.0)\n",
    "            prevYear = tweet.date.year\n",
    "            prevMonth = tweet.date.month\n",
    "            prevDay = tweet.date.day\n",
    "          \n",
    "        monthFormat = \"{month}.{year}\".format(month=MONTH_NAMES_TR[tweet.date.month],year=tweet.date.year)\n",
    "        G1.add_edge(str(tweet.date.year),monthFormat,weight=1.0)\n",
    "        \n",
    "        if(prevMonth < tweet.date.month):\n",
    "            prevMonthFormat = \"{month}.{year}\".format(month=MONTH_NAMES_TR[prevMonth],year=tweet.date.year)\n",
    "            G1.add_edge(prevMonthFormat,monthFormat,weight=1.0)\n",
    "            prevMonth = tweet.date.month\n",
    "            prevDay = tweet.date.day\n",
    "        \n",
    "        #G1.add_edge(MONTH_TAG,monthFormat,weight=1.0)\n",
    "        fullDateFormat = \"{day}.{month}.{year}\".format(day=tweet.date.day,month=tweet.date.month,year=tweet.date.year)\n",
    "        if prevDay < tweet.date.day:\n",
    "            prevFullDateFormat = \"{day}.{month}.{year}\".format(day=prevDay,month=tweet.date.month,year=tweet.date.year)\n",
    "            G1.add_edge(prevFullDateFormat,fullDateFormat,weight=1.0)\n",
    "            prevDay = tweet.date.day\n",
    "        \n",
    "        # tweet -> date\n",
    "        G1.add_edge(tweet.tweetID,fullDateFormat,weight=1.0)\n",
    "        G1.add_edge(monthFormat,fullDateFormat,weight=1.0)\n",
    "                \n",
    "        # if user will be added first time, add friend connections\n",
    "        if not G1.has_node(tweet.userID):\n",
    "            userFriends = [(x['UserID'],x['FriendID'], {'weight':1.0}) for x in allFriendships if x['UserID']==tweet.userID]\n",
    "            #print('User:{userID} was added. User has {friendCount} friend.'.format(userID=tweet.userID,friendCount=len(userFriends)))\n",
    "\n",
    "            # add friendship connections\n",
    "            G1.add_edges_from(userFriends)\n",
    "            \n",
    "        # user -> tweet connections were established\n",
    "        G1.add_edge(tweet.userID, tweet.tweetID,weight=1.0)\n",
    "                 \n",
    "        # if tweet replied and db has actuaal(replied tweet, add to graph)\n",
    "        # cevap verilen tweet db de ise, o tweete baglanti ekle\n",
    "        for i in tweets:\n",
    "            if i.tweetID == tweet.inReplyToStatusID:\n",
    "                G1.add_edge(tweet.tweetID, tweet.inReplyToStatusID,weight=1.0)\n",
    "\n",
    "    return G1"
   ]
  },
  {
   "cell_type": "code",
   "execution_count": 159,
   "metadata": {},
   "outputs": [
    {
     "name": "stdout",
     "output_type": "stream",
     "text": [
      "Number of edges:  6582\n",
      "Number of nodes:  3259\n",
      "CPU times: user 853 ms, sys: 0 ns, total: 853 ms\n",
      "Wall time: 852 ms\n"
     ]
    }
   ],
   "source": [
    "%%time\n",
    "graph = create_all_graph(tweets[:3000])\n",
    "print(\"Number of edges: \",graph.number_of_edges())\n",
    "print(\"Number of nodes: \",graph.number_of_nodes())"
   ]
  },
  {
   "cell_type": "code",
   "execution_count": 138,
   "metadata": {},
   "outputs": [],
   "source": [
    "# save and read edge list\n",
    "#nx.write_edgelist(graph, path=PROJECT_PATH+\"/outputs/grid.edgelist\", delimiter=\":\")\n",
    "#graph = nx.read_edgelist(path=\"grid.edgelist\", delimiter=\":\")"
   ]
  },
  {
   "cell_type": "code",
   "execution_count": 140,
   "metadata": {},
   "outputs": [],
   "source": [
    "#graph.edges()\n",
    "#graph['u100341775']"
   ]
  },
  {
   "cell_type": "code",
   "execution_count": 160,
   "metadata": {},
   "outputs": [
    {
     "name": "stdout",
     "output_type": "stream",
     "text": [
      "Walk iteration:\n",
      "500 / 5000\n",
      "1000 / 5000\n",
      "1500 / 5000\n",
      "2000 / 5000\n",
      "2500 / 5000\n",
      "3000 / 5000\n",
      "3500 / 5000\n",
      "4000 / 5000\n",
      "4500 / 5000\n",
      "5000 / 5000\n",
      "CPU times: user 12min 54s, sys: 3.41 s, total: 12min 57s\n",
      "Wall time: 12min 58s\n"
     ]
    }
   ],
   "source": [
    "%%time\n",
    "graphN2V = N2V.Graph(graph, True, 1.0, 1.0)\n",
    "graphN2V.preprocess_transition_probs()\n",
    "walks = graphN2V.simulate_walks(5000, 80)"
   ]
  },
  {
   "cell_type": "code",
   "execution_count": 161,
   "metadata": {},
   "outputs": [
    {
     "name": "stdout",
     "output_type": "stream",
     "text": [
      "CPU times: user 17min 28s, sys: 7.7 s, total: 17min 36s\n",
      "Wall time: 8min 24s\n"
     ]
    }
   ],
   "source": [
    "%%time\n",
    "model = N2V.learn_embeddings(walks,\"graphAll\")"
   ]
  },
  {
   "cell_type": "code",
   "execution_count": 162,
   "metadata": {},
   "outputs": [
    {
     "data": {
      "text/plain": [
       "[('u829741120045342726', 0.620094358921051),\n",
       " ('u253702889', 0.6142395734786987),\n",
       " ('u292822200', 0.6137721538543701),\n",
       " ('u3363862253', 0.6123930215835571),\n",
       " ('u710792618595250178', 0.6121010780334473),\n",
       " ('u757176735158923264', 0.6119275093078613),\n",
       " ('u819201027857641472', 0.6114423274993896),\n",
       " ('u838307023527768064', 0.6111672520637512),\n",
       " ('u82946124', 0.6099460124969482),\n",
       " ('u826443466649518081', 0.6081868410110474)]"
      ]
     },
     "execution_count": 162,
     "metadata": {},
     "output_type": "execute_result"
    }
   ],
   "source": [
    "model.wv.most_similar('u1623755515')"
   ]
  },
  {
   "cell_type": "markdown",
   "metadata": {},
   "source": [
    "### Cosine Similarities for Times"
   ]
  },
  {
   "cell_type": "code",
   "execution_count": 164,
   "metadata": {},
   "outputs": [
    {
     "data": {
      "text/html": [
       "<div>\n",
       "<style scoped>\n",
       "    .dataframe tbody tr th:only-of-type {\n",
       "        vertical-align: middle;\n",
       "    }\n",
       "\n",
       "    .dataframe tbody tr th {\n",
       "        vertical-align: top;\n",
       "    }\n",
       "\n",
       "    .dataframe thead th {\n",
       "        text-align: right;\n",
       "    }\n",
       "</style>\n",
       "<table border=\"1\" class=\"dataframe\">\n",
       "  <thead>\n",
       "    <tr style=\"text-align: right;\">\n",
       "      <th></th>\n",
       "      <th>2016</th>\n",
       "      <th>AGU.2016</th>\n",
       "      <th>24.8.2016</th>\n",
       "      <th>20.8.2016</th>\n",
       "      <th>EYL.2016</th>\n",
       "      <th>2.9.2016</th>\n",
       "      <th>6.9.2016</th>\n",
       "      <th>EKI.2016</th>\n",
       "      <th>24.10.2016</th>\n",
       "      <th>26.10.2016</th>\n",
       "    </tr>\n",
       "  </thead>\n",
       "  <tbody>\n",
       "    <tr>\n",
       "      <th>2016</th>\n",
       "      <td>1.000000</td>\n",
       "      <td>0.900598</td>\n",
       "      <td>0.082261</td>\n",
       "      <td>0.130266</td>\n",
       "      <td>0.812326</td>\n",
       "      <td>0.132598</td>\n",
       "      <td>0.141010</td>\n",
       "      <td>0.733549</td>\n",
       "      <td>0.174011</td>\n",
       "      <td>0.164666</td>\n",
       "    </tr>\n",
       "    <tr>\n",
       "      <th>AGU.2016</th>\n",
       "      <td>0.900598</td>\n",
       "      <td>1.000000</td>\n",
       "      <td>0.175179</td>\n",
       "      <td>0.211994</td>\n",
       "      <td>0.673382</td>\n",
       "      <td>0.152823</td>\n",
       "      <td>0.143122</td>\n",
       "      <td>0.614170</td>\n",
       "      <td>0.063775</td>\n",
       "      <td>0.045359</td>\n",
       "    </tr>\n",
       "    <tr>\n",
       "      <th>24.8.2016</th>\n",
       "      <td>0.082261</td>\n",
       "      <td>0.175179</td>\n",
       "      <td>1.000000</td>\n",
       "      <td>0.308358</td>\n",
       "      <td>0.052272</td>\n",
       "      <td>0.091863</td>\n",
       "      <td>0.143714</td>\n",
       "      <td>0.058124</td>\n",
       "      <td>0.020044</td>\n",
       "      <td>0.043140</td>\n",
       "    </tr>\n",
       "    <tr>\n",
       "      <th>20.8.2016</th>\n",
       "      <td>0.130266</td>\n",
       "      <td>0.211994</td>\n",
       "      <td>0.308358</td>\n",
       "      <td>1.000000</td>\n",
       "      <td>0.129036</td>\n",
       "      <td>0.098552</td>\n",
       "      <td>0.135438</td>\n",
       "      <td>0.051146</td>\n",
       "      <td>0.048997</td>\n",
       "      <td>0.066207</td>\n",
       "    </tr>\n",
       "    <tr>\n",
       "      <th>EYL.2016</th>\n",
       "      <td>0.812326</td>\n",
       "      <td>0.673382</td>\n",
       "      <td>0.052272</td>\n",
       "      <td>0.129036</td>\n",
       "      <td>1.000000</td>\n",
       "      <td>0.352799</td>\n",
       "      <td>0.377248</td>\n",
       "      <td>0.739354</td>\n",
       "      <td>0.352966</td>\n",
       "      <td>0.351478</td>\n",
       "    </tr>\n",
       "    <tr>\n",
       "      <th>2.9.2016</th>\n",
       "      <td>0.132598</td>\n",
       "      <td>0.152823</td>\n",
       "      <td>0.091863</td>\n",
       "      <td>0.098552</td>\n",
       "      <td>0.352799</td>\n",
       "      <td>1.000000</td>\n",
       "      <td>0.643052</td>\n",
       "      <td>0.269201</td>\n",
       "      <td>0.255232</td>\n",
       "      <td>0.268627</td>\n",
       "    </tr>\n",
       "    <tr>\n",
       "      <th>6.9.2016</th>\n",
       "      <td>0.141010</td>\n",
       "      <td>0.143122</td>\n",
       "      <td>0.143714</td>\n",
       "      <td>0.135438</td>\n",
       "      <td>0.377248</td>\n",
       "      <td>0.643052</td>\n",
       "      <td>1.000000</td>\n",
       "      <td>0.288106</td>\n",
       "      <td>0.309457</td>\n",
       "      <td>0.296526</td>\n",
       "    </tr>\n",
       "    <tr>\n",
       "      <th>EKI.2016</th>\n",
       "      <td>0.733549</td>\n",
       "      <td>0.614170</td>\n",
       "      <td>0.058124</td>\n",
       "      <td>0.051146</td>\n",
       "      <td>0.739354</td>\n",
       "      <td>0.269201</td>\n",
       "      <td>0.288106</td>\n",
       "      <td>1.000000</td>\n",
       "      <td>0.419417</td>\n",
       "      <td>0.404611</td>\n",
       "    </tr>\n",
       "    <tr>\n",
       "      <th>24.10.2016</th>\n",
       "      <td>0.174011</td>\n",
       "      <td>0.063775</td>\n",
       "      <td>0.020044</td>\n",
       "      <td>0.048997</td>\n",
       "      <td>0.352966</td>\n",
       "      <td>0.255232</td>\n",
       "      <td>0.309457</td>\n",
       "      <td>0.419417</td>\n",
       "      <td>1.000000</td>\n",
       "      <td>0.561415</td>\n",
       "    </tr>\n",
       "    <tr>\n",
       "      <th>26.10.2016</th>\n",
       "      <td>0.164666</td>\n",
       "      <td>0.045359</td>\n",
       "      <td>0.043140</td>\n",
       "      <td>0.066207</td>\n",
       "      <td>0.351478</td>\n",
       "      <td>0.268627</td>\n",
       "      <td>0.296526</td>\n",
       "      <td>0.404611</td>\n",
       "      <td>0.561415</td>\n",
       "      <td>1.000000</td>\n",
       "    </tr>\n",
       "  </tbody>\n",
       "</table>\n",
       "</div>"
      ],
      "text/plain": [
       "                2016  AGU.2016  24.8.2016  20.8.2016  EYL.2016  2.9.2016  \\\n",
       "2016        1.000000  0.900598   0.082261   0.130266  0.812326  0.132598   \n",
       "AGU.2016    0.900598  1.000000   0.175179   0.211994  0.673382  0.152823   \n",
       "24.8.2016   0.082261  0.175179   1.000000   0.308358  0.052272  0.091863   \n",
       "20.8.2016   0.130266  0.211994   0.308358   1.000000  0.129036  0.098552   \n",
       "EYL.2016    0.812326  0.673382   0.052272   0.129036  1.000000  0.352799   \n",
       "2.9.2016    0.132598  0.152823   0.091863   0.098552  0.352799  1.000000   \n",
       "6.9.2016    0.141010  0.143122   0.143714   0.135438  0.377248  0.643052   \n",
       "EKI.2016    0.733549  0.614170   0.058124   0.051146  0.739354  0.269201   \n",
       "24.10.2016  0.174011  0.063775   0.020044   0.048997  0.352966  0.255232   \n",
       "26.10.2016  0.164666  0.045359   0.043140   0.066207  0.351478  0.268627   \n",
       "\n",
       "            6.9.2016  EKI.2016  24.10.2016  26.10.2016  \n",
       "2016        0.141010  0.733549    0.174011    0.164666  \n",
       "AGU.2016    0.143122  0.614170    0.063775    0.045359  \n",
       "24.8.2016   0.143714  0.058124    0.020044    0.043140  \n",
       "20.8.2016   0.135438  0.051146    0.048997    0.066207  \n",
       "EYL.2016    0.377248  0.739354    0.352966    0.351478  \n",
       "2.9.2016    0.643052  0.269201    0.255232    0.268627  \n",
       "6.9.2016    1.000000  0.288106    0.309457    0.296526  \n",
       "EKI.2016    0.288106  1.000000    0.419417    0.404611  \n",
       "24.10.2016  0.309457  0.419417    1.000000    0.561415  \n",
       "26.10.2016  0.296526  0.404611    0.561415    1.000000  "
      ]
     },
     "execution_count": 164,
     "metadata": {},
     "output_type": "execute_result"
    }
   ],
   "source": [
    "column_names = ['2016', 'AGU.2016', '24.8.2016', \"20.8.2016\", 'EYL.2016', '2.9.2016', '6.9.2016','EKI.2016','24.10.2016','26.10.2016']\n",
    "matrix1 = np.stack((model.wv[column_names]))\n",
    "cosines1 = cosine_similarity(matrix1)\n",
    "df1 = pd.DataFrame(cosines1, columns=column_names, index=column_names)\n",
    "df1"
   ]
  },
  {
   "cell_type": "markdown",
   "metadata": {},
   "source": [
    "### Cosine Similarities for Users"
   ]
  },
  {
   "cell_type": "code",
   "execution_count": 165,
   "metadata": {},
   "outputs": [
    {
     "data": {
      "text/html": [
       "<div>\n",
       "<style scoped>\n",
       "    .dataframe tbody tr th:only-of-type {\n",
       "        vertical-align: middle;\n",
       "    }\n",
       "\n",
       "    .dataframe tbody tr th {\n",
       "        vertical-align: top;\n",
       "    }\n",
       "\n",
       "    .dataframe thead th {\n",
       "        text-align: right;\n",
       "    }\n",
       "</style>\n",
       "<table border=\"1\" class=\"dataframe\">\n",
       "  <thead>\n",
       "    <tr style=\"text-align: right;\">\n",
       "      <th></th>\n",
       "      <th>u1623755515</th>\n",
       "      <th>u4242878596</th>\n",
       "      <th>u2335496184</th>\n",
       "    </tr>\n",
       "  </thead>\n",
       "  <tbody>\n",
       "    <tr>\n",
       "      <th>u1623755515</th>\n",
       "      <td>1.000000</td>\n",
       "      <td>0.594814</td>\n",
       "      <td>0.115294</td>\n",
       "    </tr>\n",
       "    <tr>\n",
       "      <th>u4242878596</th>\n",
       "      <td>0.594814</td>\n",
       "      <td>1.000000</td>\n",
       "      <td>0.290579</td>\n",
       "    </tr>\n",
       "    <tr>\n",
       "      <th>u2335496184</th>\n",
       "      <td>0.115294</td>\n",
       "      <td>0.290579</td>\n",
       "      <td>1.000000</td>\n",
       "    </tr>\n",
       "  </tbody>\n",
       "</table>\n",
       "</div>"
      ],
      "text/plain": [
       "             u1623755515  u4242878596  u2335496184\n",
       "u1623755515     1.000000     0.594814     0.115294\n",
       "u4242878596     0.594814     1.000000     0.290579\n",
       "u2335496184     0.115294     0.290579     1.000000"
      ]
     },
     "execution_count": 165,
     "metadata": {},
     "output_type": "execute_result"
    }
   ],
   "source": [
    "column_names = ['u1623755515','u4242878596','u2335496184']\n",
    "matrix1 = np.stack((model.wv[column_names]))\n",
    "cosines1 = cosine_similarity(matrix1)\n",
    "df1 = pd.DataFrame(cosines1, columns=column_names, index=column_names)\n",
    "df1"
   ]
  },
  {
   "cell_type": "markdown",
   "metadata": {},
   "source": [
    "### Cosine Similarities for Tweets"
   ]
  },
  {
   "cell_type": "code",
   "execution_count": 166,
   "metadata": {},
   "outputs": [
    {
     "data": {
      "text/html": [
       "<div>\n",
       "<style scoped>\n",
       "    .dataframe tbody tr th:only-of-type {\n",
       "        vertical-align: middle;\n",
       "    }\n",
       "\n",
       "    .dataframe tbody tr th {\n",
       "        vertical-align: top;\n",
       "    }\n",
       "\n",
       "    .dataframe thead th {\n",
       "        text-align: right;\n",
       "    }\n",
       "</style>\n",
       "<table border=\"1\" class=\"dataframe\">\n",
       "  <thead>\n",
       "    <tr style=\"text-align: right;\">\n",
       "      <th></th>\n",
       "      <th>t766739153195266049</th>\n",
       "      <th>t766738735786491905</th>\n",
       "      <th>t766744289342808069</th>\n",
       "    </tr>\n",
       "  </thead>\n",
       "  <tbody>\n",
       "    <tr>\n",
       "      <th>t766739153195266049</th>\n",
       "      <td>1.000000</td>\n",
       "      <td>0.938786</td>\n",
       "      <td>0.390433</td>\n",
       "    </tr>\n",
       "    <tr>\n",
       "      <th>t766738735786491905</th>\n",
       "      <td>0.938786</td>\n",
       "      <td>1.000000</td>\n",
       "      <td>0.404209</td>\n",
       "    </tr>\n",
       "    <tr>\n",
       "      <th>t766744289342808069</th>\n",
       "      <td>0.390433</td>\n",
       "      <td>0.404209</td>\n",
       "      <td>1.000000</td>\n",
       "    </tr>\n",
       "  </tbody>\n",
       "</table>\n",
       "</div>"
      ],
      "text/plain": [
       "                     t766739153195266049  t766738735786491905  \\\n",
       "t766739153195266049             1.000000             0.938786   \n",
       "t766738735786491905             0.938786             1.000000   \n",
       "t766744289342808069             0.390433             0.404209   \n",
       "\n",
       "                     t766744289342808069  \n",
       "t766739153195266049             0.390433  \n",
       "t766738735786491905             0.404209  \n",
       "t766744289342808069             1.000000  "
      ]
     },
     "execution_count": 166,
     "metadata": {},
     "output_type": "execute_result"
    }
   ],
   "source": [
    "column_names = ['t766739153195266049','t766738735786491905', 't766744289342808069']\n",
    "matrix1 = np.stack((model.wv[column_names]))\n",
    "cosines1 = cosine_similarity(matrix1)\n",
    "df1 = pd.DataFrame(cosines1, columns=column_names, index=column_names)\n",
    "df1"
   ]
  }
 ],
 "metadata": {
  "kernelspec": {
   "display_name": "n2vEnv",
   "language": "python",
   "name": "n2venv"
  },
  "language_info": {
   "codemirror_mode": {
    "name": "ipython",
    "version": 3
   },
   "file_extension": ".py",
   "mimetype": "text/x-python",
   "name": "python",
   "nbconvert_exporter": "python",
   "pygments_lexer": "ipython3",
   "version": "3.6.5"
  }
 },
 "nbformat": 4,
 "nbformat_minor": 2
}
