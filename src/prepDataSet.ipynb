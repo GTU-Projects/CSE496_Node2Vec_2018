{
 "cells": [
  {
   "cell_type": "code",
   "execution_count": 1,
   "metadata": {},
   "outputs": [],
   "source": [
    "import re"
   ]
  },
  {
   "cell_type": "code",
   "execution_count": 2,
   "metadata": {},
   "outputs": [
    {
     "ename": "FileNotFoundError",
     "evalue": "[Errno 2] No such file or directory: '../dataset/TWNERTC_TC_Coarse Grained NER_No_NoiseReduction.DUMP'",
     "output_type": "error",
     "traceback": [
      "\u001b[0;31m---------------------------------------------------------------------------\u001b[0m",
      "\u001b[0;31mFileNotFoundError\u001b[0m                         Traceback (most recent call last)",
      "\u001b[0;32m<ipython-input-2-70cd1f5f6ab0>\u001b[0m in \u001b[0;36m<module>\u001b[0;34m()\u001b[0m\n\u001b[1;32m      4\u001b[0m \u001b[0mtestbFilePath\u001b[0m\u001b[0;34m=\u001b[0m\u001b[0;34m\"../outputs/NER/testb.bio\"\u001b[0m\u001b[0;34m\u001b[0m\u001b[0m\n\u001b[1;32m      5\u001b[0m \u001b[0mc\u001b[0m\u001b[0;34m=\u001b[0m\u001b[0;36m0\u001b[0m\u001b[0;34m\u001b[0m\u001b[0m\n\u001b[0;32m----> 6\u001b[0;31m \u001b[0;32mwith\u001b[0m \u001b[0mopen\u001b[0m\u001b[0;34m(\u001b[0m\u001b[0minputFilePath\u001b[0m\u001b[0;34m,\u001b[0m\u001b[0;34m\"r\"\u001b[0m\u001b[0;34m)\u001b[0m \u001b[0;32mas\u001b[0m \u001b[0minFile\u001b[0m\u001b[0;34m:\u001b[0m\u001b[0;34m\u001b[0m\u001b[0m\n\u001b[0m\u001b[1;32m      7\u001b[0m     \u001b[0;32mwith\u001b[0m \u001b[0mopen\u001b[0m\u001b[0;34m(\u001b[0m\u001b[0mtrainFilePath\u001b[0m\u001b[0;34m,\u001b[0m\u001b[0;34m\"w\"\u001b[0m\u001b[0;34m)\u001b[0m \u001b[0;32mas\u001b[0m \u001b[0moutFile\u001b[0m\u001b[0;34m:\u001b[0m\u001b[0;34m\u001b[0m\u001b[0m\n\u001b[1;32m      8\u001b[0m         \u001b[0mline\u001b[0m \u001b[0;34m=\u001b[0m \u001b[0minFile\u001b[0m\u001b[0;34m.\u001b[0m\u001b[0mreadline\u001b[0m\u001b[0;34m(\u001b[0m\u001b[0;34m)\u001b[0m\u001b[0;34m\u001b[0m\u001b[0m\n",
      "\u001b[0;31mFileNotFoundError\u001b[0m: [Errno 2] No such file or directory: '../dataset/TWNERTC_TC_Coarse Grained NER_No_NoiseReduction.DUMP'"
     ]
    }
   ],
   "source": [
    "inputFilePath=\"../dataset/TWNERTC_All_Versions/TWNERTC_TC_Coarse Grained NER_No_NoiseReduction.DUMP\"\n",
    "trainFilePath=\"../outputs/NER/train.bio\"\n",
    "testaFilePath=\"../outputs/NER/testa.bio\"\n",
    "testbFilePath=\"../outputs/NER/testb.bio\"\n",
    "c=0\n",
    "with open(inputFilePath,\"r\") as inFile:\n",
    "    with open(trainFilePath,\"w\") as outFile:\n",
    "        line = inFile.readline()\n",
    "        while line:\n",
    "            splits = line.split()\n",
    "\n",
    "            mid = int(len(splits[1:])/2)\n",
    "            for i,j in zip(splits[1:mid],splits[mid+1:]):\n",
    "                if i==\"B-PERSON\":\n",
    "                    i=\"B-PER\"\n",
    "                if i==\"I-PERSON\":\n",
    "                    i=\"I-PER\"\n",
    "                if i==\"B-LOCATION\":\n",
    "                    i=\"B-LOC\"\n",
    "                if i==\"I-LOCATION\":\n",
    "                    i=\"I-LOC\"\n",
    "                if i==\"B-ORGANIZATION\":\n",
    "                    i=\"B-ORG\"\n",
    "                if i==\"I-ORGANIZATION\":\n",
    "                    i=\"I-ORG\"\n",
    "                str=j+\"\\t\"+i+\"\\n\"\n",
    "                outFile.write(str)\n",
    "            outFile.write(\"\\n\")\n",
    "            line = inFile.readline()\n",
    "            c=c+1\n",
    "            if c==30000:\n",
    "                break\n",
    "                \n",
    "    with open(testaFilePath,\"w\") as outFile:\n",
    "        line = inFile.readline()\n",
    "        c=0\n",
    "        while line:\n",
    "            splits = line.split()\n",
    "\n",
    "            mid = int(len(splits[1:])/2)\n",
    "            for i,j in zip(splits[1:mid],splits[mid+1:]):\n",
    "                if i==\"B-PERSON\":\n",
    "                    i=\"B-PER\"\n",
    "                if i==\"I-PERSON\":\n",
    "                    i=\"I-PER\"\n",
    "                if i==\"B-LOCATION\":\n",
    "                    i=\"B-LOC\"\n",
    "                if i==\"I-LOCATION\":\n",
    "                    i=\"I-LOC\"\n",
    "                if i==\"B-ORGANIZATION\":\n",
    "                    i=\"B-ORG\"\n",
    "                if i==\"I-ORGANIZATION\":\n",
    "                    i=\"I-ORG\"\n",
    "                str=j+\"\\t\"+i+\"\\n\"\n",
    "                outFile.write(str)\n",
    "            outFile.write(\"\\n\")\n",
    "            line = inFile.readline()\n",
    "            c=c+1\n",
    "            if c==3000:\n",
    "                break\n",
    "                \n",
    "    with open(testbFilePath,\"w\") as outFile:\n",
    "        line = inFile.readline()\n",
    "        c=0\n",
    "        while line:\n",
    "            splits = line.split()\n",
    "\n",
    "            mid = int(len(splits[1:])/2)\n",
    "            for i,j in zip(splits[1:mid],splits[mid+1:]):\n",
    "                if i==\"B-PERSON\":\n",
    "                    i=\"B-PER\"\n",
    "                if i==\"I-PERSON\":\n",
    "                    i=\"I-PER\"\n",
    "                if i==\"B-LOCATION\":\n",
    "                    i=\"B-LOC\"\n",
    "                if i==\"I-LOCATION\":\n",
    "                    i=\"I-LOC\"\n",
    "                if i==\"B-ORGANIZATION\":\n",
    "                    i=\"B-ORG\"\n",
    "                if i==\"I-ORGANIZATION\":\n",
    "                    i=\"I-ORG\"\n",
    "                str=j+\"\\t\"+i+\"\\n\"\n",
    "                outFile.write(str)\n",
    "            outFile.write(\"\\n\")\n",
    "            line = inFile.readline()\n",
    "            c=c+1\n",
    "            if c==3000:\n",
    "                break               "
   ]
  },
  {
   "cell_type": "code",
   "execution_count": null,
   "metadata": {},
   "outputs": [],
   "source": []
  }
 ],
 "metadata": {
  "kernelspec": {
   "display_name": "Python 3",
   "language": "python",
   "name": "python3"
  },
  "language_info": {
   "codemirror_mode": {
    "name": "ipython",
    "version": 3
   },
   "file_extension": ".py",
   "mimetype": "text/x-python",
   "name": "python",
   "nbconvert_exporter": "python",
   "pygments_lexer": "ipython3",
   "version": "3.5.2"
  }
 },
 "nbformat": 4,
 "nbformat_minor": 2
}
