{
 "cells": [
  {
   "cell_type": "code",
   "execution_count": 1,
   "metadata": {},
   "outputs": [],
   "source": [
    "import re"
   ]
  },
  {
   "cell_type": "code",
   "execution_count": 38,
   "metadata": {},
   "outputs": [],
   "source": [
    "inputFilePath=\"../NER/TWNERTC_All_Versions/TWNERTC_TC_Coarse Grained NER_DomainDependent_NoiseReduction.DUMP\"\n",
    "outputFilePath=\"tr1Out.txt\"\n",
    "with open(inputFilePath,\"r\") as inFile:\n",
    "    with open(outputFilePath,\"w\") as outFile:\n",
    "        line = inFile.readline()\n",
    "        while line:\n",
    "            splits = line.split()\n",
    "            #print(\"Domain:\",splits[0])\n",
    "            #print(splits[1:],len(splits[1:]))\n",
    "\n",
    "            mid = int(len(splits[1:])/2)\n",
    "            for i,j in zip(splits[1:mid],splits[mid+1:]):\n",
    "                if i==\"B-PERSON\":\n",
    "                    i=\"B-PER\"\n",
    "                if i==\"I-PERSON\":\n",
    "                    i=\"I-PER\"\n",
    "                if i==\"B-LOCATION\":\n",
    "                    i=\"B-LOC\"\n",
    "                if i==\"I-LOCATION\":\n",
    "                    i=\"I-LOC\"\n",
    "                if i==\"B-ORGANIZATION\":\n",
    "                    i=\"B-ORG\"\n",
    "                if i==\"I-ORGANIZATION\":\n",
    "                    i=\"I-ORG\"\n",
    "                str=j+\" :\"+\" : \"+i+\"\\n\"\n",
    "                outFile.write(str)\n",
    "            outFile.write(\"\\n\")\n",
    "            line = inFile.readline()"
   ]
  },
  {
   "cell_type": "code",
   "execution_count": null,
   "metadata": {},
   "outputs": [],
   "source": []
  }
 ],
 "metadata": {
  "kernelspec": {
   "display_name": "Python 3",
   "language": "python",
   "name": "python3"
  },
  "language_info": {
   "codemirror_mode": {
    "name": "ipython",
    "version": 3
   },
   "file_extension": ".py",
   "mimetype": "text/x-python",
   "name": "python",
   "nbconvert_exporter": "python",
   "pygments_lexer": "ipython3",
   "version": "3.5.2"
  }
 },
 "nbformat": 4,
 "nbformat_minor": 2
}
