{
 "cells": [
  {
   "cell_type": "code",
   "execution_count": 3,
   "metadata": {},
   "outputs": [],
   "source": [
    "import doc_tool\n",
    "import db_helper\n",
    "import re\n",
    "import nltk\n",
    "import networkx as nx\n",
    "from datetime import datetime\n",
    "from node2vec import Node2Vec"
   ]
  },
  {
   "cell_type": "code",
   "execution_count": 4,
   "metadata": {},
   "outputs": [],
   "source": [
    "db = db_helper.DBHelper()\n",
    "db.connect(user=\"root\",passwd=\"Hasan5695*\",db=\"cse496\")"
   ]
  },
  {
   "cell_type": "code",
   "execution_count": 5,
   "metadata": {},
   "outputs": [],
   "source": [
    "tweets = db.getTweets(\"denemeShort\")"
   ]
  },
  {
   "cell_type": "code",
   "execution_count": 6,
   "metadata": {},
   "outputs": [],
   "source": [
    "userIDs = db.getUniqueUserIDs(\"Friends\")\n",
    "friendIDs = db.getUserFriendIDs(\"Friends\",userIDs[0])"
   ]
  },
  {
   "cell_type": "code",
   "execution_count": 8,
   "metadata": {},
   "outputs": [
    {
     "name": "stdout",
     "output_type": "stream",
     "text": [
      "UniqueUser #:  199\n",
      "Friend # of user: 100341775  is: 612\n"
     ]
    }
   ],
   "source": [
    "print(\"UniqueUser #: \",len(userIDs))\n",
    "print(\"Friend # of user:\",userIDs[0],\" is:\",len(friendIDs))"
   ]
  },
  {
   "cell_type": "code",
   "execution_count": 9,
   "metadata": {},
   "outputs": [
    {
     "name": "stdout",
     "output_type": "stream",
     "text": [
      "Graph construct time:  0:00:03.641786\n"
     ]
    }
   ],
   "source": [
    "# create friendship graph\n",
    "startTime = datetime.now()\n",
    "# I used DiGraph because of this state: \n",
    "#A follow B but B couldn't follow A, so there is no need to add edge\n",
    "friendshipGraph=nx.Graph()\n",
    "\n",
    "#run for first half of unique person and take half of friends\n",
    "for userID in userIDs[:int(len(userIDs)/10)]:\n",
    "    friendIDs = db.getUserFriendIDs(\"Friends\",userID)\n",
    "    for friendID in friendIDs[:int(len(friendIDs)/10)]:\n",
    "        friendshipGraph.add_edge(userID,friendID)\n",
    "endTime = datetime.now()\n",
    "print(\"Graph construct time: \",endTime-startTime)"
   ]
  },
  {
   "cell_type": "code",
   "execution_count": 10,
   "metadata": {},
   "outputs": [
    {
     "data": {
      "text/plain": [
       "62"
      ]
     },
     "execution_count": 10,
     "metadata": {},
     "output_type": "execute_result"
    }
   ],
   "source": [
    "len(friendshipGraph[\"100341775\"])"
   ]
  },
  {
   "cell_type": "code",
   "execution_count": 11,
   "metadata": {},
   "outputs": [
    {
     "name": "stderr",
     "output_type": "stream",
     "text": [
      "Computing transition probabilities: 100%|██████████| 3093/3093 [00:13<00:00, 221.39it/s]\n",
      "Generating walks (CPU: 1):  97%|█████████▋| 33/34 [04:13<00:07,  7.65s/it]\n",
      "Generating walks (CPU: 1): 100%|██████████| 34/34 [04:19<00:00,  7.13s/it]\n",
      "\n"
     ]
    }
   ],
   "source": [
    "# train, create new node2ve model\n",
    "friendshipN2V = Node2Vec(friendshipGraph, dimensions=64, walk_length=20, num_walks=100, workers=3) "
   ]
  },
  {
   "cell_type": "code",
   "execution_count": 13,
   "metadata": {},
   "outputs": [],
   "source": [
    "# run/fit word2vec algorithm and get wv model\n",
    "model = friendshipN2V.fit(window=10, min_count=1, batch_words=4)"
   ]
  },
  {
   "cell_type": "code",
   "execution_count": 26,
   "metadata": {},
   "outputs": [],
   "source": [
    "model.wv.save_word2vec_format(\"../outputs/friendship_vw_format.model\")\n",
    "\n",
    "# Save model for later use\n",
    "model.save(\"../outputs/friendship.model\")"
   ]
  },
  {
   "cell_type": "code",
   "execution_count": 15,
   "metadata": {},
   "outputs": [
    {
     "data": {
      "text/plain": [
       "[('1073309624', 0.7373084425926208),\n",
       " ('102105793', 0.7367502450942993),\n",
       " ('1076329207', 0.726550817489624),\n",
       " ('124147545', 0.7256461381912231),\n",
       " ('115216315', 0.7245758771896362),\n",
       " ('104926410', 0.7238134145736694),\n",
       " ('100751034', 0.7225210666656494),\n",
       " ('13383062', 0.7219160795211792),\n",
       " ('1215150620', 0.7218815088272095),\n",
       " ('1127512045', 0.7195311188697815)]"
      ]
     },
     "execution_count": 15,
     "metadata": {},
     "output_type": "execute_result"
    }
   ],
   "source": [
    "model.wv.most_similar(\"100341775\")"
   ]
  },
  {
   "cell_type": "code",
   "execution_count": 16,
   "metadata": {},
   "outputs": [],
   "source": [
    "nx.draw_networkx(friendshipGraph,width=0.5,node_size=80,font_size=8,with_labels=True)"
   ]
  },
  {
   "cell_type": "code",
   "execution_count": 18,
   "metadata": {},
   "outputs": [],
   "source": [
    "from gensim.models import word2vec"
   ]
  },
  {
   "cell_type": "code",
   "execution_count": 19,
   "metadata": {},
   "outputs": [],
   "source": [
    "model2 = word2vec.Word2Vec.load(\"friendship.model\")"
   ]
  },
  {
   "cell_type": "code",
   "execution_count": 25,
   "metadata": {},
   "outputs": [
    {
     "data": {
      "text/plain": [
       "[('115216315', 0.9915549755096436),\n",
       " ('1035568326', 0.9900369644165039),\n",
       " ('100751034', 0.9900076389312744),\n",
       " ('114452294', 0.9899251461029053),\n",
       " ('1321952677', 0.9883931875228882),\n",
       " ('1321971956', 0.9881894588470459),\n",
       " ('1116377042', 0.9860410690307617),\n",
       " ('1140869882', 0.9858604073524475),\n",
       " ('100446187', 0.9853262901306152),\n",
       " ('130494271', 0.9851905107498169)]"
      ]
     },
     "execution_count": 25,
     "metadata": {},
     "output_type": "execute_result"
    }
   ],
   "source": [
    "model2.wv.most_similar(\"1073309624\")"
   ]
  },
  {
   "cell_type": "code",
   "execution_count": null,
   "metadata": {},
   "outputs": [],
   "source": []
  }
 ],
 "metadata": {
  "kernelspec": {
   "display_name": "Python 3",
   "language": "python",
   "name": "python3"
  },
  "language_info": {
   "codemirror_mode": {
    "name": "ipython",
    "version": 3
   },
   "file_extension": ".py",
   "mimetype": "text/x-python",
   "name": "python",
   "nbconvert_exporter": "python",
   "pygments_lexer": "ipython3",
   "version": "3.5.2"
  }
 },
 "nbformat": 4,
 "nbformat_minor": 2
}
